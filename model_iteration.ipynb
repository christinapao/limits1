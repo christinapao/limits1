{
 "cells": [
  {
   "cell_type": "code",
   "execution_count": 59,
   "metadata": {},
   "outputs": [],
   "source": [
    "import pandas as pd\n",
    "from itertools import combinations\n",
    "import numpy as np"
   ]
  },
  {
   "cell_type": "code",
   "execution_count": 120,
   "metadata": {},
   "outputs": [],
   "source": [
    "hegre_predictions = pd.read_csv('predictions_by_model.csv')\n",
    "\n",
    "def all_combinations_by_year(year, data):\n",
    "\n",
    "    # function returns data frame that has predictions for a given\n",
    "    # year\n",
    "\n",
    "    # subsetting data \n",
    "    year_data = data[data['year'] == year]\n",
    "\n",
    "    # list of length 9 for prediction from each model\n",
    "    predictions = [prediction for prediction in year_data['sh_w_c']]\n",
    "\n",
    "    # TO REMEMBER: Python indexing begins at 0\n",
    "\n",
    "    # initializing dataframe to keep results\n",
    "    our_predictions = []\n",
    "    model_combinations = []\n",
    "\n",
    "    # going through all combos where 1 is picked, then where 2 is picked and so forth\n",
    "    for number_of_predictions_selected in range(1, 9 + 1):  # range is not inclusive\n",
    "\n",
    "        # list of combinations \n",
    "        all_combos_given_selection = list(combinations(range(0, 8 + 1), number_of_predictions_selected))\n",
    "\n",
    "        # now calculating each prediction\n",
    "        for combo in all_combos_given_selection:\n",
    "\n",
    "            # obtaining predictions that are being use for a given combination\n",
    "            predictions_to_use = [predictions[index] for index in combo]\n",
    "\n",
    "            # mean (equal weights) across all predictions selected\n",
    "            # this should equal the Hegre prediction when all 9 are \n",
    "            # selected\n",
    "            equal_weights_prediction = np.mean(predictions_to_use)\n",
    "            \n",
    "            our_predictions.append(equal_weights_prediction)\n",
    "            model_combinations.append(combo)\n",
    "    \n",
    "    # dummies for whether the model combination includes model 0, model 1, ...\n",
    "    includes_model = [[1 if i in model_number else 0 for model_number in model_combinations] for i in range(9)]\n",
    "    column_names = [\"model_\" + str(number) for number in range(1,9 + 1)]  # note: turned back into 1-9\n",
    "\n",
    "    # need to transpose for some reason\n",
    "    predictions_data_frame = pd.DataFrame(includes_model,).T\n",
    "    predictions_data_frame.columns = column_names\n",
    "    predictions_data_frame[\"predictions\"] = our_predictions\n",
    "    predictions_data_frame[\"combination\"] = model_combinations\n",
    "                                \n",
    "    return(predictions_data_frame)"
   ]
  },
  {
   "cell_type": "code",
   "execution_count": 121,
   "metadata": {},
   "outputs": [],
   "source": [
    "predictions_2010 = all_combinations_by_year(year=2010, data=hegre_predictions)"
   ]
  }
 ],
 "metadata": {
  "kernelspec": {
   "display_name": "Python 3",
   "language": "python",
   "name": "python3"
  },
  "language_info": {
   "codemirror_mode": {
    "name": "ipython",
    "version": 3
   },
   "file_extension": ".py",
   "mimetype": "text/x-python",
   "name": "python",
   "nbconvert_exporter": "python",
   "pygments_lexer": "ipython3",
   "version": "3.12.2"
  }
 },
 "nbformat": 4,
 "nbformat_minor": 2
}
